{
 "cells": [
  {
   "cell_type": "code",
   "execution_count": null,
   "metadata": {},
   "outputs": [],
   "source": [
    "from datetime import datetime\n",
    "from dateutil import parser\n",
    "import glob\n",
    "import os\n",
    "import pdb\n",
    "from pprint import pprint\n",
    "import pytz\n",
    "import re\n",
    "import time\n",
    "\n",
    "from selenium import webdriver\n",
    "from selenium.webdriver.common.keys import Keys\n",
    "from tqdm import trange"
   ]
  },
  {
   "cell_type": "code",
   "execution_count": null,
   "metadata": {},
   "outputs": [],
   "source": [
    "# This is where all pgn files will be downloaded to\n",
    "download_dir = \"/home/benjafek/Downloads\"\n",
    "todays_date = datetime.now().strftime(\"%Y-%m-%d\")\n",
    "downloaded_name = os.path.join(download_dir, f\"chess_com_games_{todays_date}.pgn\")\n",
    "output_dir = \"/home/benjafek/chess/ben_chess/games\"\n",
    "my_user_name = \"t1ber1us\""
   ]
  },
  {
   "cell_type": "code",
   "execution_count": null,
   "metadata": {},
   "outputs": [],
   "source": [
    "def download():\n",
    "    # First, download all the games\n",
    "    path_to_driver = \"/home/benjafek/chess/ben_chess/chromedriver/chromedriver\"\n",
    "    driver = webdriver.Chrome(path_to_driver)\n",
    "    driver.get(\"https://www.chess.com/home\")\n",
    "\n",
    "    # Enter my email\n",
    "    username = driver.find_element_by_name(\"_username\")\n",
    "    username.clear()\n",
    "    username.send_keys(\"jafek91@gmail.com\")\n",
    "\n",
    "    # Enter my password <REDACTED>\n",
    "    password = driver.find_element_by_name(\"_password\")\n",
    "    password.clear()\n",
    "    password.send_keys(\"<REDACTED>\")\n",
    "\n",
    "    # Login\n",
    "    login = driver.find_element_by_name(\"login\")\n",
    "    login.click()\n",
    "\n",
    "    # Then find all my games\n",
    "    for page_num in trange(1, 101):\n",
    "        print (page_num)\n",
    "        driver.get(f\"https://www.chess.com/games/archive/{my_user_name}?gameType=live&gameTypeslive%5B%5D=bullet&page={page_num}\")\n",
    "        check_all = driver.find_element_by_class_name(\"archive-games-check-all\")\n",
    "        check_all.click()\n",
    "\n",
    "        # Then click download\n",
    "        download_button = driver.find_element_by_class_name(\"archive-games-download-button\")\n",
    "        download_button.click()\n",
    "        time.sleep(1)\n",
    "\n",
    "        # And move them to a unique name place\n",
    "        new_name = os.path.join(output_dir, f\"tiberius_games_page{page_num:05d}.pgn\")\n",
    "        os.rename(downloaded_name, new_name)\n",
    "        time.sleep(0.5)\n",
    "    driver.close()"
   ]
  },
  {
   "cell_type": "code",
   "execution_count": null,
   "metadata": {},
   "outputs": [],
   "source": [
    "timezone_map = {\n",
    "    \"PDT\": \"US/Pacific\",\n",
    "    \"EDT\": \"\",\n",
    "}"
   ]
  },
  {
   "cell_type": "code",
   "execution_count": null,
   "metadata": {},
   "outputs": [],
   "source": [
    "# If the games aren't there, download them (download will take awhile)\n",
    "all_games = sorted(glob.glob(os.path.join(output_dir, \"*.pgn\")))\n",
    "if not all_games:\n",
    "    download()"
   ]
  },
  {
   "cell_type": "code",
   "execution_count": null,
   "metadata": {},
   "outputs": [],
   "source": [
    "# Now we can look at them\n",
    "for game_list in all_games:\n",
    "    with open(game_list, \"r\") as f:\n",
    "        data = f.read().strip().split('[Event \"Live Chess\"]')\n",
    "\n",
    "    for game in data:\n",
    "        game = game.replace(\"\\n\", \" \")\n",
    "        if not game: continue\n",
    "        play_time = re.search(r\"Date \\\"(.*?)\\\"\\].*?EndTime \\\"(.*?) (PDT)\\\"\", game)\n",
    "        # TODO(jafek.ben) figure out how to convert timezones using datetime.strptime\n",
    "        total_date = play_time.group(1) + \" \" + play_time.group(2) + \" \" + play_time.group(3)\n",
    "        my_date = datetime.strptime(total_date, \"%Y.%m.%d %H:%M:%S %Z\")\n",
    "        print (my_date)\n",
    "        print (total_date)\n",
    "        break\n",
    "    break"
   ]
  }
 ],
 "metadata": {
  "kernelspec": {
   "display_name": "Python 3",
   "language": "python",
   "name": "python3"
  },
  "language_info": {
   "codemirror_mode": {
    "name": "ipython",
    "version": 3
   },
   "file_extension": ".py",
   "mimetype": "text/x-python",
   "name": "python",
   "nbconvert_exporter": "python",
   "pygments_lexer": "ipython3",
   "version": "3.6.9"
  }
 },
 "nbformat": 4,
 "nbformat_minor": 2
}
